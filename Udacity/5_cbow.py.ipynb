{
 "cells": [
  {
   "cell_type": "markdown",
   "metadata": {},
   "source": [
    "# Deeplearning\n",
    "CBOW word2vec"
   ]
  },
  {
   "cell_type": "code",
   "execution_count": 1,
   "metadata": {
    "collapsed": true
   },
   "outputs": [],
   "source": [
    "import zipfile\n",
    "import tensorflow as tf\n",
    "import numpy as np\n",
    "import random\n",
    "import math\n",
    "import collections\n",
    "\n",
    "from matplotlib import pylab"
   ]
  },
  {
   "cell_type": "code",
   "execution_count": 2,
   "metadata": {
    "collapsed": true
   },
   "outputs": [],
   "source": [
    "# global variable\n",
    "data_index = 0 # 采样时从文本的第一个词开始采样\n",
    "\n",
    "def read_data(filename):\n",
    "    with zipfile.ZipFile(filename) as f:\n",
    "        data = tf.compat.as_str(f.read(f.namelist()[0])).split()\n",
    "    return data\n",
    "    \n",
    "def build_dataset(vocabulary_size,words):\n",
    "    count = [['UNK', -1]]\n",
    "    count.extend(collections.Counter(words).most_common(vocabulary_size - 1))\n",
    "    dictionary = dict()\n",
    "    for word, _ in count:\n",
    "        dictionary[word] = len(dictionary)\n",
    "    data = list()\n",
    "    unk_count = 0\n",
    "    for word in words:\n",
    "        if word in dictionary:\n",
    "            index = dictionary[word]\n",
    "        else:\n",
    "            index = 0  # dictionary['UNK']\n",
    "            unk_count = unk_count + 1\n",
    "        data.append(index)\n",
    "    count[0][1] = unk_count\n",
    "    reverse_dictionary = dict(zip(dictionary.values(), dictionary.keys()))\n",
    "    return data, count, dictionary, reverse_dictionary\n",
    "    \n",
    "def generate_batch(data,batch_size,num_skips,skip_window):\n",
    "    global data_index\n",
    "    assert batch_size % num_skips == 0\n",
    "    assert num_skips <= 2 * skip_window\n",
    "    context_size = 2 * skip_window\n",
    "    labels = np.ndarray(shape=(batch_size,1),dtype=np.int32)\n",
    "    batchs = np.ndarray(shape=(context_size,batch_size),dtype=np.int32)\n",
    "    span = 2 * skip_window + 1\n",
    "    buffer = collections.deque(maxlen=span)\n",
    "    for _ in range(span):\n",
    "        buffer.append(data[data_index])\n",
    "        data_index = (data_index+1)%(len(data))\n",
    "    \n",
    "    for i in range(batch_size//num_skips):\n",
    "        target = skip_window\n",
    "        for j in range(num_skips):\n",
    "            labels[i * num_skips + j,0] = buffer[target]\n",
    "            met_target = False\n",
    "            for k in range(context_size):\n",
    "                if k == target:\n",
    "                    met_target = True\n",
    "                if met_target == True:\n",
    "                    batchs[k,i * num_skips + j] = buffer[k+1]\n",
    "                else:\n",
    "                    batchs[k,i * num_skips + j] = buffer[k]\n",
    "        buffer.append(data[data_index])\n",
    "        data_index = (data_index + 1)%len(data)\n",
    "    return batchs,labels"
   ]
  },
  {
   "cell_type": "code",
   "execution_count": 7,
   "metadata": {
    "collapsed": false
   },
   "outputs": [
    {
     "name": "stdout",
     "output_type": "stream",
     "text": [
      "...... Reading data from zip file......\n",
      "Data Size = 17005207\n",
      "...... Transfer word data to word index,dictionary ......\n",
      "\n",
      "With num_skips = 1 and skip_window = 1\n",
      "('    batch:', ['anarchism', 'originated', 'as', 'a', 'term', 'of', 'abuse', 'first'])\n",
      "('    labels:', ['originated', 'as', 'a', 'term', 'of', 'abuse', 'first', 'used'])\n",
      "(5239, '->', 3084, '<===>', 'anarchism', '->', 'originated')\n",
      "(3084, '->', 12, '<===>', 'originated', '->', 'as')\n",
      "(12, '->', 6, '<===>', 'as', '->', 'a')\n",
      "(6, '->', 195, '<===>', 'a', '->', 'term')\n",
      "(195, '->', 2, '<===>', 'term', '->', 'of')\n",
      "(2, '->', 3137, '<===>', 'of', '->', 'abuse')\n",
      "(3137, '->', 46, '<===>', 'abuse', '->', 'first')\n",
      "(46, '->', 59, '<===>', 'first', '->', 'used')\n",
      "\n",
      "With num_skips = 2 and skip_window = 1\n",
      "('    batch:', ['anarchism', 'originated', 'as', 'a', 'term', 'of', 'abuse', 'first'])\n",
      "('    labels:', ['originated', 'originated', 'as', 'as', 'a', 'a', 'term', 'term'])\n",
      "(5239, '->', 3084, '<===>', 'anarchism', '->', 'originated')\n",
      "(3084, '->', 3084, '<===>', 'originated', '->', 'originated')\n",
      "(12, '->', 12, '<===>', 'as', '->', 'as')\n",
      "(6, '->', 12, '<===>', 'a', '->', 'as')\n",
      "(195, '->', 6, '<===>', 'term', '->', 'a')\n",
      "(2, '->', 6, '<===>', 'of', '->', 'a')\n",
      "(3137, '->', 195, '<===>', 'abuse', '->', 'term')\n",
      "(46, '->', 195, '<===>', 'first', '->', 'term')\n",
      "\n",
      "With num_skips = 4 and skip_window = 2\n",
      "('    batch:', ['anarchism', 'originated', 'as', 'a', 'term', 'of', 'abuse', 'first'])\n",
      "('    labels:', ['as', 'as', 'as', 'as', 'a', 'a', 'a', 'a'])\n",
      "(5239, '->', 12, '<===>', 'anarchism', '->', 'as')\n",
      "(3084, '->', 12, '<===>', 'originated', '->', 'as')\n",
      "(12, '->', 12, '<===>', 'as', '->', 'as')\n",
      "(6, '->', 12, '<===>', 'a', '->', 'as')\n",
      "(195, '->', 6, '<===>', 'term', '->', 'a')\n",
      "(2, '->', 6, '<===>', 'of', '->', 'a')\n",
      "(3137, '->', 6, '<===>', 'abuse', '->', 'a')\n",
      "(46, '->', 6, '<===>', 'first', '->', 'a')\n"
     ]
    }
   ],
   "source": [
    "filename=\"text8.zip\"\n",
    "vocabulary_size=50000\n",
    "batch_size=8\n",
    "\n",
    "print('...... Reading data from zip file......')\n",
    "words = read_data(filename)\n",
    "print('Data Size = {0}'.format(len(words)))\n",
    "    \n",
    "print('...... Transfer word data to word index,dictionary ......')\n",
    "data, count, dictionary, reverse_dictionary = build_dataset(vocabulary_size,words)\n",
    "    \n",
    "for num_skips,skip_window in [(1,1),(2,1),(4,2)]:\n",
    "    data_index = 0\n",
    "    batchs,labels = generate_batch(data,\n",
    "                                  batch_size=batch_size,\n",
    "                                  num_skips=num_skips,\n",
    "                                  skip_window=skip_window\n",
    "                                 )\n",
    "    # TODO\n",
    "    print('\\nWith num_skips = {0} and skip_window = {1}'.format(num_skips,skip_window))\n",
    "    print('    batch:',[reverse_dictionary[bi] for bi in batch[0]])\n",
    "    print('    labels:',[reverse_dictionary[li] for li in labels.reshape(8)])\n",
    "    for i in range(8):\n",
    "        print(batch[0][i],'->',labels[i,0],'<===>',\n",
    "            reverse_dictionary[batch[0][i]],'->',reverse_dictionary[labels[i,0]])"
   ]
  },
  {
   "cell_type": "code",
   "execution_count": null,
   "metadata": {
    "collapsed": true
   },
   "outputs": [],
   "source": []
  }
 ],
 "metadata": {
  "kernelspec": {
   "display_name": "Python 2",
   "language": "python",
   "name": "python2"
  },
  "language_info": {
   "codemirror_mode": {
    "name": "ipython",
    "version": 2
   },
   "file_extension": ".py",
   "mimetype": "text/x-python",
   "name": "python",
   "nbconvert_exporter": "python",
   "pygments_lexer": "ipython2",
   "version": "2.7.6"
  }
 },
 "nbformat": 4,
 "nbformat_minor": 1
}
