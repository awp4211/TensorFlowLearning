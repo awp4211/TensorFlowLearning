{
 "cells": [
  {
   "cell_type": "code",
   "execution_count": 1,
   "metadata": {
    "collapsed": true
   },
   "outputs": [],
   "source": [
    "import tensorflow as tf\n",
    "# 变量：创建 初始化 保存和加载"
   ]
  },
  {
   "cell_type": "code",
   "execution_count": 7,
   "metadata": {
    "collapsed": false
   },
   "outputs": [],
   "source": [
    "import tensorflow as tf\n",
    "weights = tf.Variable(tf.random_normal([784,200],stddev=0.35),name=\"weights\")\n",
    "biases = tf.Variable(tf.zeros([200]),name=\"biases\")\n",
    "init = tf.initialize_all_variables()\n",
    "# 初始化：初始化必须在模型的其他操作运行之前明确地完成。\n",
    "# \n",
    "with tf.Session() as sess:\n",
    "    sess.run(init)"
   ]
  },
  {
   "cell_type": "code",
   "execution_count": 9,
   "metadata": {
    "collapsed": false
   },
   "outputs": [],
   "source": [
    "# 由另一个变量初始化变量\n",
    "import tensorflow as tf\n",
    "weights = tf.Variable(tf.random_normal([784,200],stddev=0.35),name=\"weights\")\n",
    "w2 = tf.Variable(weights.initialized_value(),name=\"w2\")\n",
    "w_twice = tf.Variable(weights.initialized_value() * 0.2,name=\"w_twice\")\n",
    "\n",
    "init = tf.initialize_all_variables()"
   ]
  },
  {
   "cell_type": "code",
   "execution_count": null,
   "metadata": {
    "collapsed": true
   },
   "outputs": [],
   "source": [
    "# 保存和加载\n",
    "# 最简单的保存和恢复模型的方法是使用tf.train.Saver对象。构造器给graph的所有变量，\n",
    "# 或是定义在列表里的变量，添加save和restore ops。\n",
    "# saver对象提供了方法来运行这些ops，定义检查点文件的读写路径。\n",
    "import tensorflow as tf\n",
    "\n",
    "# 保存变量 tf.train.Saver() 创建一个Saver来管理模型中的所有变量"
   ]
  }
 ],
 "metadata": {
  "kernelspec": {
   "display_name": "Python 2",
   "language": "python",
   "name": "python2"
  },
  "language_info": {
   "codemirror_mode": {
    "name": "ipython",
    "version": 2
   },
   "file_extension": ".py",
   "mimetype": "text/x-python",
   "name": "python",
   "nbconvert_exporter": "python",
   "pygments_lexer": "ipython2",
   "version": "2.7.6"
  }
 },
 "nbformat": 4,
 "nbformat_minor": 1
}
