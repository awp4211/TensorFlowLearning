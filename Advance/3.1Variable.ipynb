{
 "cells": [
  {
   "cell_type": "code",
   "execution_count": 1,
   "metadata": {
    "collapsed": true
   },
   "outputs": [],
   "source": [
    "import tensorflow as tf\n",
    "# 变量：创建 初始化 保存和加载"
   ]
  },
  {
   "cell_type": "code",
   "execution_count": 7,
   "metadata": {
    "collapsed": false
   },
   "outputs": [],
   "source": [
    "import tensorflow as tf\n",
    "weights = tf.Variable(tf.random_normal([784,200],stddev=0.35),name=\"weights\")\n",
    "biases = tf.Variable(tf.zeros([200]),name=\"biases\")\n",
    "init = tf.initialize_all_variables()\n",
    "# 初始化：初始化必须在模型的其他操作运行之前明确地完成。\n",
    "# \n",
    "with tf.Session() as sess:\n",
    "    sess.run(init)"
   ]
  },
  {
   "cell_type": "code",
   "execution_count": 9,
   "metadata": {
    "collapsed": false
   },
   "outputs": [],
   "source": [
    "# 由另一个变量初始化变量\n",
    "import tensorflow as tf\n",
    "weights = tf.Variable(tf.random_normal([784,200],stddev=0.35),name=\"weights\")\n",
    "w2 = tf.Variable(weights.initialized_value(),name=\"w2\")\n",
    "w_twice = tf.Variable(weights.initialized_value() * 0.2,name=\"w_twice\")\n",
    "\n",
    "init = tf.initialize_all_variables()"
   ]
  },
  {
   "cell_type": "code",
   "execution_count": 11,
   "metadata": {
    "collapsed": false
   },
   "outputs": [
    {
     "name": "stdout",
     "output_type": "stream",
     "text": [
      "Model saved in file: /tmp/model.ckpt\n"
     ]
    }
   ],
   "source": [
    "# 保存和加载\n",
    "# 最简单的保存和恢复模型的方法是使用tf.train.Saver对象。构造器给graph的所有变量，\n",
    "# 或是定义在列表里的变量，添加save和restore ops。\n",
    "# saver对象提供了方法来运行这些ops，定义检查点文件的读写路径。\n",
    "import tensorflow as tf\n",
    "\n",
    "# 保存变量 tf.train.Saver() 创建一个Saver来管理模型中的所有变量\n",
    "v1 = tf.Variable(tf.random_normal([5]),name=\"v1\")\n",
    "v2 = tf.Variable(tf.random_normal([5]),name=\"v2\")\n",
    "\n",
    "init_op = tf.initialize_all_variables()\n",
    "\n",
    "saver = tf.train.Saver()\n",
    "\n",
    "with tf.Session() as sess:\n",
    "    sess.run(init_op)\n",
    "    \n",
    "    # Save the variable to disk\n",
    "    save_path = saver.save(sess,\"/tmp/model.ckpt\")\n",
    "    print \"Model saved in file:\",save_path\n"
   ]
  },
  {
   "cell_type": "code",
   "execution_count": 15,
   "metadata": {
    "collapsed": false
   },
   "outputs": [
    {
     "ename": "SyntaxError",
     "evalue": "invalid syntax (<ipython-input-15-1cb4c01e37cb>, line 6)",
     "output_type": "error",
     "traceback": [
      "\u001b[0;36m  File \u001b[0;32m\"<ipython-input-15-1cb4c01e37cb>\"\u001b[0;36m, line \u001b[0;32m6\u001b[0m\n\u001b[0;31m    ...\u001b[0m\n\u001b[0m    ^\u001b[0m\n\u001b[0;31mSyntaxError\u001b[0m\u001b[0;31m:\u001b[0m invalid syntax\n"
     ]
    }
   ],
   "source": [
    "# 恢复变量\n",
    "import tensorflow as tf\n",
    "# Create some variables.\n",
    "v1 = tf.Variable(tf.random_normal([5]), name=\"v1\")\n",
    "v2 = tf.Variable(tf.random_normal([5]), name=\"v2\")\n",
    "\n",
    "# Add ops to save and restore all the variables.\n",
    "saver = tf.train.Saver()\n",
    "\n",
    "# Later, launch the model, use the saver to restore variables from disk, and\n",
    "# do some work with the model.\n",
    "with tf.Session() as sess:\n",
    "    # Restore variables from disk.\n",
    "    saver.restore(sess, \"/tmp/model.ckpt\")\n",
    "    print \"Model restored.\""
   ]
  },
  {
   "cell_type": "code",
   "execution_count": null,
   "metadata": {
    "collapsed": true
   },
   "outputs": [],
   "source": []
  }
 ],
 "metadata": {
  "kernelspec": {
   "display_name": "Python 2",
   "language": "python",
   "name": "python2"
  },
  "language_info": {
   "codemirror_mode": {
    "name": "ipython",
    "version": 2
   },
   "file_extension": ".py",
   "mimetype": "text/x-python",
   "name": "python",
   "nbconvert_exporter": "python",
   "pygments_lexer": "ipython2",
   "version": "2.7.6"
  }
 },
 "nbformat": 4,
 "nbformat_minor": 1
}
