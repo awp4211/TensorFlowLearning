{
 "cells": [
  {
   "cell_type": "code",
   "execution_count": 3,
   "metadata": {
    "collapsed": false
   },
   "outputs": [
    {
     "name": "stdout",
     "output_type": "stream",
     "text": [
      "0 [[-0.24267358 -0.03582776]] [ 1.24589789]\n",
      "20 [[-0.10518887  0.03655389]] [ 0.4895789]\n",
      "40 [[ 0.02551284  0.14046448]] [ 0.36892107]\n",
      "60 [[ 0.0729442   0.17833267]] [ 0.32505524]\n",
      "80 [[ 0.09016929  0.19211829]] [ 0.30910826]\n",
      "100 [[ 0.09642734  0.19713376]] [ 0.30331105]\n",
      "120 [[ 0.09870148  0.19895785]] [ 0.30120361]\n",
      "140 [[ 0.09952802  0.19962114]] [ 0.30043754]\n",
      "160 [[ 0.09982844  0.19986226]] [ 0.30015907]\n",
      "180 [[ 0.09993764  0.19994995]] [ 0.3000578]\n",
      "200 [[ 0.09997734  0.19998184]] [ 0.30002099]\n"
     ]
    }
   ],
   "source": [
    "#=============================toturial===========================\n",
    "#=====================三维数据平面拟合==============================\n",
    "import tensorflow as tf\n",
    "import numpy as np\n",
    "\n",
    "# 使用 NumPy 生成假数据(phony data), 总共 100 个点.\n",
    "x_data = np.float32(np.random.rand(2, 100)) # 随机输入\n",
    "y_data = np.dot([0.100, 0.200], x_data) + 0.300\n",
    "\n",
    "b = tf.Variable(tf.zeros([1]))\n",
    "W = tf.Variable(tf.random_uniform([1,2],-1.0,1.0))\n",
    "y = tf.matmul(W,x_data) + b\n",
    "\n",
    "# 最小化方差\n",
    "loss = tf.reduce_mean(tf.square(y - y_data))\n",
    "optimizer = tf.train.GradientDescentOptimizer(0.5)\n",
    "train = optimizer.minimize(loss)\n",
    "\n",
    "# initialization\n",
    "init = tf.initialize_all_variables()\n",
    "\n",
    "sess = tf.Session()\n",
    "sess.run(init)\n",
    "for step in xrange(0,201):\n",
    "    sess.run(train)\n",
    "    if step % 20 == 0:\n",
    "        print step,sess.run(W),sess.run(b)"
   ]
  },
  {
   "cell_type": "code",
   "execution_count": 1,
   "metadata": {
    "collapsed": true
   },
   "outputs": [],
   "source": [
    "import tensorflow as tf"
   ]
  },
  {
   "cell_type": "code",
   "execution_count": null,
   "metadata": {
    "collapsed": true
   },
   "outputs": [],
   "source": [
    "import tensorflow as tf\n",
    "\n",
    "x = tf.placeholder(\"float\",[None,784])\n",
    "W = tf.Variable(tf.zeros([784,10]))\n",
    "b = tf.Variable(tf.zeros([10]))\n",
    "y = tf.nn.softmax(tf.matmul(x,W) + b)\n",
    "\n",
    "y_ = tf.placeholder(\"float\",[None,10])\n",
    "\n",
    "cross_entropy = -tf.reduce_sum(y_* tf.log(y))\n",
    "\n",
    "train_step = tf.train.GradientDescentOptimizer(0.01).minimize(cross_entropy)\n",
    "\n",
    "init = tf.initialize_all_variables()\n",
    "\n",
    "sess = tf.Session()\n",
    "sess.run(init)\n",
    "\n"
   ]
  },
  {
   "cell_type": "code",
   "execution_count": null,
   "metadata": {
    "collapsed": true
   },
   "outputs": [],
   "source": [
    "# ===========================常见错误 ===========================================\n",
    "# 1.could not find cudnnCreate in cudnn DSO\n",
    "# CUDNN没有安装\n",
    "# = 解决方法：\n",
    "# 将cudnn解压，把include文件夹下的cudnn.h复制到usr/local/cuda/include下\n",
    "#             把剩下的lib64文件夹下的文件赋值到usr/local/cuda/lib64下"
   ]
  }
 ],
 "metadata": {
  "kernelspec": {
   "display_name": "Python 2",
   "language": "python",
   "name": "python2"
  },
  "language_info": {
   "codemirror_mode": {
    "name": "ipython",
    "version": 2
   },
   "file_extension": ".py",
   "mimetype": "text/x-python",
   "name": "python",
   "nbconvert_exporter": "python",
   "pygments_lexer": "ipython2",
   "version": "2.7.6"
  }
 },
 "nbformat": 4,
 "nbformat_minor": 1
}
